{
 "cells": [
  {
   "cell_type": "code",
   "execution_count": 1,
   "metadata": {},
   "outputs": [],
   "source": [
    "import utils\n",
    "from models import VGNN\n",
    "from sklearn import metrics\n",
    "import numpy as np\n",
    "from utils import IC_ICIR_score_calculate, R2_score_calculate\n",
    "\n",
    "import torch\n",
    "import random\n"
   ]
  },
  {
   "cell_type": "code",
   "execution_count": 2,
   "metadata": {
    "scrolled": true
   },
   "outputs": [
    {
     "name": "stdout",
     "output_type": "stream",
     "text": [
      "Loading dataset...\n",
      "Months: 120, Firms: 3050, Dimension of features: 94\n"
     ]
    }
   ],
   "source": [
    "# load data\n",
    "print(\"Loading dataset...\")\n",
    "features, labels, adj_Ind, adj_Loc = utils.load_data()\n",
    "# features shape: [Months, Firms, Dimension of features]\n",
    "print(\"Months: {}, Firms: {}, Dimension of features: {}\".format(features.shape[0], features.shape[1], features.shape[2]))"
   ]
  },
  {
   "cell_type": "code",
   "execution_count": 3,
   "metadata": {},
   "outputs": [],
   "source": [
    "# Split data\n",
    "rnn_length = 12\n",
    "train_end_time = 12 * 7\n",
    "val_end_time = 12 * 9\n",
    "X_train, X_eval, X_test = features[:train_end_time], features[train_end_time - rnn_length + 1:val_end_time], features[val_end_time - rnn_length + 1:]\n",
    "y_train, y_eval, y_test = labels[:train_end_time], labels[train_end_time - rnn_length + 1:val_end_time], labels[val_end_time - rnn_length + 1:]"
   ]
  },
  {
   "cell_type": "code",
   "execution_count": 4,
   "metadata": {},
   "outputs": [
    {
     "data": {
      "text/plain": [
       "<All keys matched successfully>"
      ]
     },
     "execution_count": 4,
     "metadata": {},
     "output_type": "execute_result"
    }
   ],
   "source": [
    "# load model\n",
    "import argparse\n",
    "\n",
    "parser = argparse.ArgumentParser()\n",
    "parser.add_argument('--dropout', type=float, default=0.6, help='Dropout rate (1 - keep probability).')\n",
    "parser.add_argument('--alpha', type=float, default=0.2, help='Alpha for the leaky_relu.')\n",
    "parser.add_argument('--hidden', type=int, default=64, help='Number of hidden units.')\n",
    "parser.add_argument('--hidden_RNN', type=int, default=32, help='Hidden size of RNN.')\n",
    "parser.add_argument('--hidden_spillover', type=int, default=32, help='Hidden size of spillover embedding.')\n",
    "parser.add_argument('--nclass', type=int, default=1, help='Number of class.')\n",
    "\n",
    "args = parser.parse_args([])\n",
    "\n",
    "model = VGNN(nfeat=features.shape[-1],\n",
    "             nhid=args.hidden,\n",
    "             hidden_RNN=args.hidden_RNN,\n",
    "             hidden_spillover=args.hidden_spillover,\n",
    "             nclass=args.nclass,\n",
    "             dropout=args.dropout,\n",
    "             alpha=args.alpha)\n",
    "\n",
    "model.load_state_dict(torch.load('{}.pkl'.format(40), map_location='cpu'))"
   ]
  },
  {
   "cell_type": "code",
   "execution_count": 5,
   "metadata": {},
   "outputs": [
    {
     "name": "stdout",
     "output_type": "stream",
     "text": [
      "Test results: loss_test: 0.0645 R2_test: 0.0163 Rank_IC_test: 0.0633 Rank_ICIR_test: 0.6292\n"
     ]
    }
   ],
   "source": [
    "# Test result\n",
    "def compute_test():\n",
    "    model.eval()\n",
    "    phase_pred_test = []\n",
    "    phase_label_test = []\n",
    "    test_seq = list(range(len(X_test) + 1))[rnn_length:]\n",
    "    for i in test_seq:\n",
    "        with torch.no_grad():\n",
    "            output, _, _ = model(adj_Ind, adj_Loc, X_test[i - rnn_length: i])\n",
    "        phase_pred_test.extend(output.detach().cpu().numpy().reshape(-1))\n",
    "        phase_label_test.extend(y_test[i - 1].detach().cpu().numpy())\n",
    "\n",
    "    mse_test = metrics.mean_squared_error(np.array(phase_label_test), np.array(phase_pred_test))\n",
    "    r2_test = R2_score_calculate(np.array(phase_label_test), np.array(phase_pred_test))\n",
    "    rank_ic_test, rank_ic_ir_test = IC_ICIR_score_calculate(phase_label_test, phase_pred_test, len(test_seq))\n",
    "    print('Test results:',\n",
    "          'loss_test: {:.4f}'.format(mse_test),\n",
    "          'R2_test: {:.4f}'.format(r2_test),\n",
    "          'Rank_IC_test: {:.4f}'.format(rank_ic_test),\n",
    "          'Rank_ICIR_test: {:.4f}'.format(rank_ic_ir_test))\n",
    "\n",
    "    return np.array(phase_pred_test), np.array(phase_label_test)\n",
    "\n",
    "\n",
    "pred_test, labels_test = compute_test()"
   ]
  },
  {
   "cell_type": "code",
   "execution_count": 6,
   "metadata": {},
   "outputs": [],
   "source": [
    "pred_test = pred_test.reshape(12, 3050)\n",
    "labels_test = labels_test.reshape(12, 3050)"
   ]
  },
  {
   "cell_type": "code",
   "execution_count": 7,
   "metadata": {},
   "outputs": [],
   "source": [
    "# back-testing\n",
    "def back_testing(pred, label):\n",
    "    \n",
    "    # investment budget:$10,000\n",
    "    capital = 10000\n",
    "    capital_list = [10000]\n",
    "    for month in range(pred.shape[0]):\n",
    "        # top 50\n",
    "        top_50_index = pred[month].argsort()[-50:]\n",
    "        # Dividing the investment budget ($10,000) equally into 50 equal parts \n",
    "        capital_per = capital / 50\n",
    "        return_monthly = 0\n",
    "        for i in top_50_index:\n",
    "            return_per = (label[month][i] + 1) * capital_per\n",
    "            return_monthly += return_per\n",
    "        capital = return_monthly\n",
    "        capital_list.append(capital)\n",
    "        \n",
    "    return capital_list"
   ]
  },
  {
   "cell_type": "code",
   "execution_count": 8,
   "metadata": {},
   "outputs": [],
   "source": [
    "VGNN_back_testing = back_testing(pred_test, labels_test)"
   ]
  },
  {
   "cell_type": "code",
   "execution_count": 9,
   "metadata": {},
   "outputs": [
    {
     "data": {
      "image/png": "[encoded data removed]",
      "text/plain": [
       "<Figure size 432x360 with 1 Axes>"
      ]
     },
     "metadata": {
      "needs_background": "light"
     },
     "output_type": "display_data"
    }
   ],
   "source": [
    "import matplotlib.pyplot as plt\n",
    "\n",
    "plt.rc('font',family='Times New Roman',size='8')\n",
    "fig = plt.figure(figsize=(6,5))\n",
    "\n",
    "plt.plot(VGNN_back_testing, marker = \"o\",ls='-', mec='dodgerblue', mfc='w', linewidth = 1,markersize=4, label='VGNN', color = 'dodgerblue')\n",
    "plt.tick_params(labelsize=10)\n",
    "\n",
    "plt.legend(loc = 'upper left')\n",
    "plt.xlim(0,12)\n",
    "plt.xlabel('Months', size = 10)\n",
    "plt.ylabel('Portfolio value ($)', size = 10)\n",
    "\n",
    "plt.grid(ls=':', linewidth = 0.5, color = 'lightgray')\n",
    "# plt.savefig('top_50',dpi = 500)\n",
    "plt.show()"
   ]
  },
  {
   "cell_type": "code",
   "execution_count": 10,
   "metadata": {},
   "outputs": [],
   "source": [
    "def sharpe_ratio(protfolio):\n",
    "    \n",
    "    r_p_monthly = [(protfolio[i] - protfolio[i-1]) / protfolio[i-1]  for i in range(1, len(protfolio))]\n",
    "    \n",
    "    r_f = 0.1\n",
    "    \n",
    "    r_ann = ((1 + ((protfolio[-1] - protfolio[0]) / protfolio[0])) ** (12 / len(r_p_monthly))) - 1\n",
    "    \n",
    "    SR = (r_ann - r_f) / (np.std(r_p_monthly, ddof = 1) * np.sqrt(12))\n",
    "    \n",
    "    return SR, r_ann"
   ]
  },
  {
   "cell_type": "code",
   "execution_count": 11,
   "metadata": {},
   "outputs": [
    {
     "name": "stdout",
     "output_type": "stream",
     "text": [
      "The Sharpe ratio is 2.0177\n",
      "The annualized cumulative return of the portfolio is 1.0974\n"
     ]
    }
   ],
   "source": [
    "SR, r_ann = sharpe_ratio(VGNN_back_testing)\n",
    "print(\"The Sharpe ratio is {:.4f}\".format(SR)) \n",
    "print(\"The annualized cumulative return of the portfolio is {:.4f}\".format(r_ann))"
   ]
  },
  {
   "cell_type": "code",
   "execution_count": null,
   "metadata": {},
   "outputs": [],
   "source": []
  }
 ],
 "metadata": {
  "kernelspec": {
   "display_name": "Python 3",
   "language": "python",
   "name": "python3"
  },
  "language_info": {
   "codemirror_mode": {
    "name": "ipython",
    "version": 3
   },
   "file_extension": ".py",
   "mimetype": "text/x-python",
   "name": "python",
   "nbconvert_exporter": "python",
   "pygments_lexer": "ipython3",
   "version": "3.8.5"
  }
 },
 "nbformat": 4,
 "nbformat_minor": 4
}
