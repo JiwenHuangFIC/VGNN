{
 "cells": [
  {
   "cell_type": "code",
   "execution_count": 1,
   "metadata": {},
   "outputs": [],
   "source": [
    "import numpy as np\n",
    "from sklearn.metrics import mean_squared_error \n",
    "from sklearn.metrics import r2_score "
   ]
  },
  {
   "cell_type": "markdown",
   "metadata": {},
   "source": [
    "####  Piecewise function：\n",
    "$$y=\\begin{cases}\n",
    "2 + 3x_1 + 4x_2 + 20x_1x_2 & 0 \\leq x_1 < 0.5, 0 \\leq x_2 < 0.5 \\\\\n",
    "2 + 3x_1 + 4x_2 - 10x_1x_2 & 0 \\leq x_1 < 0.5, 0.5 \\leq x_2 < 1 \\\\\n",
    "2 + 3x_1 + 4x_2 + 10x_1x_2 & 0.5 \\leq x_1 < 1, 0 \\leq x_2 < 0.5 \\\\\n",
    "2 + 3x_1 + 4x_2 - 5x_1x_2 & 0.5 \\leq x_1 < 1, 0.5 \\leq x_2 < 1\n",
    "\\end{cases}$$"
   ]
  },
  {
   "cell_type": "code",
   "execution_count": 2,
   "metadata": {},
   "outputs": [],
   "source": [
    "# Create dataset\n",
    "np.random.seed(42)\n",
    "X = np.random.rand(50000, 2)\n",
    "\n",
    "def myfun(x):\n",
    "    \n",
    "    if 0 <= x[0] and x[0] < 0.5 and 0 <= x[1] and x[1] < 0.5:\n",
    "        y = 2 + 3 * x[0] + 4 * x[1] + 20 * x[0] * x[1]  \n",
    "        \n",
    "    elif 0 <= x[0] and x[0] < 0.5 and 0.5 <= x[1] and x[1] < 1:\n",
    "        y = 2 + 3 * x[0] + 4 * x[1] - 10 * x[0] * x[1] \n",
    "    \n",
    "    elif 0.5 <= x[0] and x[0] < 1 and 0 <= x[1] and x[1] < 0.5:\n",
    "        y = 2 + 3 * x[0] + 4 * x[1] + 10 * x[0] * x[1]  \n",
    "    \n",
    "    else:\n",
    "        y = 2 + 3 * x[0] + 4 * x[1] - 5 * x[0] * x[1]  \n",
    "        \n",
    "    return y\n",
    "\n",
    "y = np.apply_along_axis(myfun, 1, X) + np.random.randn(50000)"
   ]
  },
  {
   "cell_type": "code",
   "execution_count": 3,
   "metadata": {},
   "outputs": [],
   "source": [
    "# Get the interaction term of x_1 times x_2\n",
    "X_inter = X[:,0] * X[:,1]\n",
    "X = np.concatenate((X, X_inter.reshape(-1,1)), axis=1)\n",
    "\n",
    "X_train, X_eval, X_test = X[:35000], X[35000:45000], X[45000:]\n",
    "y_train, y_eval, y_test = y[:35000], y[35000:45000], y[45000:]"
   ]
  },
  {
   "cell_type": "code",
   "execution_count": 4,
   "metadata": {
    "scrolled": false
   },
   "outputs": [
    {
     "data": {
      "text/plain": [
       "array([[0.37454012, 0.95071431, 0.35608065],\n",
       "       [0.73199394, 0.59865848, 0.43821438],\n",
       "       [0.15601864, 0.15599452, 0.02433805],\n",
       "       [0.05808361, 0.86617615, 0.05031064],\n",
       "       [0.60111501, 0.70807258, 0.42563306]])"
      ]
     },
     "execution_count": 4,
     "metadata": {},
     "output_type": "execute_result"
    }
   ],
   "source": [
    "X[:5]"
   ]
  },
  {
   "cell_type": "code",
   "execution_count": 5,
   "metadata": {},
   "outputs": [
    {
     "data": {
      "text/plain": [
       "array([4.20838218, 6.92343086, 3.47866357, 2.93824463, 5.93281742])"
      ]
     },
     "execution_count": 5,
     "metadata": {},
     "output_type": "execute_result"
    }
   ],
   "source": [
    "y[:5]"
   ]
  },
  {
   "cell_type": "markdown",
   "metadata": {},
   "source": [
    "# $M_{Linear}$: \n",
    "### Linear regression model with three input variables, $x_1$, $x_2$ and $x_1x_2$"
   ]
  },
  {
   "cell_type": "code",
   "execution_count": 6,
   "metadata": {
    "scrolled": true
   },
   "outputs": [
    {
     "data": {
      "text/plain": [
       "(2.992162141243706, array([ 5.64233603,  1.72220449, -6.28848671]))"
      ]
     },
     "execution_count": 6,
     "metadata": {},
     "output_type": "execute_result"
    }
   ],
   "source": [
    "from sklearn.linear_model import LinearRegression\n",
    "\n",
    "lin_reg = LinearRegression()\n",
    "lin_reg.fit(X_train, y_train)\n",
    "lin_reg.intercept_, lin_reg.coef_"
   ]
  },
  {
   "cell_type": "code",
   "execution_count": 7,
   "metadata": {},
   "outputs": [
    {
     "name": "stdout",
     "output_type": "stream",
     "text": [
      "Linear regression model result:\n",
      "R2 = 0.2286 MSE = 3.2427\n"
     ]
    }
   ],
   "source": [
    "pred = lin_reg.predict(X_test)\n",
    "print(\"Linear regression model result:\")\n",
    "print(\"R2 = {:.4f}\".format(r2_score(y_test, pred)), \"MSE = {:.4f}\".format(mean_squared_error(y_test, pred)))"
   ]
  },
  {
   "cell_type": "markdown",
   "metadata": {},
   "source": [
    "# $M_{Neural2}$:\n",
    "### Three-layer neural network with two input variables, $x_1$ and $x_2$ "
   ]
  },
  {
   "cell_type": "code",
   "execution_count": 8,
   "metadata": {},
   "outputs": [],
   "source": [
    "import torch\n",
    "import torch.nn as nn\n",
    "import torch.optim as optim\n",
    "\n",
    "\n",
    "class NN3(nn.Module):\n",
    "    \n",
    "    def __init__(self, in_dim, n_hidden_1, n_hidden_2, out_dim):\n",
    "        \n",
    "        super(NN3, self).__init__()\n",
    "        \n",
    "        self.net = nn.Sequential(\n",
    "            nn.Linear(in_dim, n_hidden_1),\n",
    "            nn.Tanh(),\n",
    "            nn.Linear(n_hidden_1, n_hidden_2), \n",
    "            nn.Tanh(),\n",
    "            nn.Linear(n_hidden_2, out_dim)\n",
    "        )\n",
    "\n",
    "    def forward(self, x):\n",
    "\n",
    "        x = self.net(x)\n",
    "\n",
    "        return x"
   ]
  },
  {
   "cell_type": "code",
   "execution_count": 9,
   "metadata": {},
   "outputs": [],
   "source": [
    "import random\n",
    "random.seed(42)\n",
    "np.random.seed(42)\n",
    "torch.manual_seed(42)\n",
    "\n",
    "# input : x_1, x_2\n",
    "model = NN3(2, 8, 4, 1)\n",
    "optimizer = optim.Adam(model.parameters(), lr=0.005)\n",
    "loss_fun = nn.MSELoss()"
   ]
  },
  {
   "cell_type": "code",
   "execution_count": 10,
   "metadata": {
    "scrolled": true
   },
   "outputs": [
    {
     "name": "stdout",
     "output_type": "stream",
     "text": [
      "epoch = 0 loss = 29.8230 eval_mse = 29.5404 test_mse = 29.2464\n",
      "epoch = 200 loss = 4.5891 eval_mse = 4.6098 test_mse = 4.4831\n",
      "epoch = 400 loss = 4.2559 eval_mse = 4.2923 test_mse = 4.1850\n",
      "epoch = 600 loss = 4.0825 eval_mse = 4.1064 test_mse = 4.0078\n",
      "epoch = 800 loss = 3.1726 eval_mse = 3.1705 test_mse = 3.0916\n",
      "epoch = 1000 loss = 2.0709 eval_mse = 2.0817 test_mse = 2.0381\n",
      "epoch = 1200 loss = 1.6846 eval_mse = 1.7009 test_mse = 1.6528\n",
      "epoch = 1400 loss = 1.5484 eval_mse = 1.5649 test_mse = 1.5126\n",
      "epoch = 1600 loss = 1.4756 eval_mse = 1.4907 test_mse = 1.4369\n",
      "epoch = 1800 loss = 1.4300 eval_mse = 1.4439 test_mse = 1.3913\n",
      "epoch = 2000 loss = 1.3983 eval_mse = 1.4119 test_mse = 1.3609\n",
      "epoch = 2200 loss = 1.3758 eval_mse = 1.3894 test_mse = 1.3400\n",
      "epoch = 2400 loss = 1.3597 eval_mse = 1.3729 test_mse = 1.3257\n",
      "epoch = 2600 loss = 1.3470 eval_mse = 1.3597 test_mse = 1.3151\n",
      "epoch = 2800 loss = 1.3359 eval_mse = 1.3480 test_mse = 1.3061\n",
      "epoch = 3000 loss = 1.3246 eval_mse = 1.3364 test_mse = 1.2972\n",
      "epoch = 3200 loss = 1.3126 eval_mse = 1.3242 test_mse = 1.2873\n",
      "epoch = 3400 loss = 1.2993 eval_mse = 1.3103 test_mse = 1.2752\n",
      "epoch = 3600 loss = 1.2651 eval_mse = 1.2728 test_mse = 1.2406\n",
      "epoch = 3800 loss = 1.2400 eval_mse = 1.2457 test_mse = 1.2182\n",
      "epoch = 4000 loss = 1.2309 eval_mse = 1.2361 test_mse = 1.2108\n",
      "epoch = 4200 loss = 1.2242 eval_mse = 1.2294 test_mse = 1.2059\n",
      "epoch = 4400 loss = 1.2119 eval_mse = 1.2184 test_mse = 1.1950\n",
      "epoch = 4600 loss = 1.2000 eval_mse = 1.2081 test_mse = 1.1837\n",
      "epoch = 4800 loss = 1.1918 eval_mse = 1.2005 test_mse = 1.1752\n",
      "epoch = 5000 loss = 1.1852 eval_mse = 1.1949 test_mse = 1.1687\n",
      "epoch = 5200 loss = 1.1760 eval_mse = 1.1868 test_mse = 1.1594\n",
      "epoch = 5400 loss = 1.1588 eval_mse = 1.1684 test_mse = 1.1407\n",
      "epoch = 5600 loss = 1.1458 eval_mse = 1.1543 test_mse = 1.1269\n",
      "epoch = 5800 loss = 1.1411 eval_mse = 1.1500 test_mse = 1.1228\n",
      "epoch = 6000 loss = 1.1382 eval_mse = 1.1474 test_mse = 1.1202\n",
      "epoch = 6200 loss = 1.1360 eval_mse = 1.1455 test_mse = 1.1180\n",
      "epoch = 6400 loss = 1.1346 eval_mse = 1.1436 test_mse = 1.1166\n",
      "epoch = 6600 loss = 1.1323 eval_mse = 1.1423 test_mse = 1.1145\n",
      "epoch = 6800 loss = 1.1307 eval_mse = 1.1408 test_mse = 1.1129\n",
      "epoch = 7000 loss = 1.1291 eval_mse = 1.1393 test_mse = 1.1113\n",
      "epoch = 7200 loss = 1.1275 eval_mse = 1.1376 test_mse = 1.1098\n",
      "epoch = 7400 loss = 1.1258 eval_mse = 1.1359 test_mse = 1.1081\n",
      "epoch = 7600 loss = 1.1240 eval_mse = 1.1340 test_mse = 1.1063\n",
      "epoch = 7800 loss = 1.1219 eval_mse = 1.1319 test_mse = 1.1042\n",
      "epoch = 8000 loss = 1.1195 eval_mse = 1.1295 test_mse = 1.1016\n",
      "epoch = 8200 loss = 1.1166 eval_mse = 1.1266 test_mse = 1.0985\n",
      "epoch = 8400 loss = 1.1130 eval_mse = 1.1231 test_mse = 1.0949\n",
      "epoch = 8600 loss = 1.1090 eval_mse = 1.1196 test_mse = 1.0909\n",
      "epoch = 8800 loss = 1.1052 eval_mse = 1.1162 test_mse = 1.0872\n",
      "epoch = 9000 loss = 1.1025 eval_mse = 1.1150 test_mse = 1.0846\n",
      "epoch = 9200 loss = 1.0996 eval_mse = 1.1115 test_mse = 1.0817\n",
      "epoch = 9400 loss = 1.0976 eval_mse = 1.1097 test_mse = 1.0795\n",
      "epoch = 9600 loss = 1.0960 eval_mse = 1.1081 test_mse = 1.0777\n",
      "epoch = 9800 loss = 1.0945 eval_mse = 1.1067 test_mse = 1.0760\n",
      "epoch = 10000 loss = 1.0931 eval_mse = 1.1053 test_mse = 1.0744\n",
      "epoch = 10200 loss = 1.0918 eval_mse = 1.1040 test_mse = 1.0730\n",
      "epoch = 10400 loss = 1.0905 eval_mse = 1.1028 test_mse = 1.0716\n",
      "epoch = 10600 loss = 1.0893 eval_mse = 1.1016 test_mse = 1.0702\n",
      "epoch = 10800 loss = 1.0881 eval_mse = 1.1005 test_mse = 1.0689\n",
      "epoch = 11000 loss = 1.0869 eval_mse = 1.0994 test_mse = 1.0677\n",
      "epoch = 11200 loss = 1.0858 eval_mse = 1.0985 test_mse = 1.0665\n",
      "epoch = 11400 loss = 1.0848 eval_mse = 1.0974 test_mse = 1.0654\n",
      "epoch = 11600 loss = 1.0838 eval_mse = 1.0964 test_mse = 1.0644\n",
      "epoch = 11800 loss = 1.0828 eval_mse = 1.0955 test_mse = 1.0634\n",
      "epoch = 12000 loss = 1.0819 eval_mse = 1.0946 test_mse = 1.0624\n",
      "epoch = 12200 loss = 1.0811 eval_mse = 1.0939 test_mse = 1.0615\n",
      "epoch = 12400 loss = 1.0803 eval_mse = 1.0931 test_mse = 1.0608\n",
      "epoch = 12600 loss = 1.0795 eval_mse = 1.0924 test_mse = 1.0600\n",
      "epoch = 12800 loss = 1.0788 eval_mse = 1.0917 test_mse = 1.0593\n",
      "epoch = 13000 loss = 1.0782 eval_mse = 1.0910 test_mse = 1.0587\n",
      "epoch = 13200 loss = 1.0776 eval_mse = 1.0909 test_mse = 1.0581\n",
      "epoch = 13400 loss = 1.0770 eval_mse = 1.0898 test_mse = 1.0577\n",
      "epoch = 13600 loss = 1.0765 eval_mse = 1.0894 test_mse = 1.0571\n",
      "epoch = 13800 loss = 1.0760 eval_mse = 1.0889 test_mse = 1.0566\n",
      "epoch = 14000 loss = 1.0755 eval_mse = 1.0884 test_mse = 1.0562\n",
      "epoch = 14200 loss = 1.0750 eval_mse = 1.0879 test_mse = 1.0557\n",
      "epoch = 14400 loss = 1.0746 eval_mse = 1.0875 test_mse = 1.0553\n",
      "epoch = 14600 loss = 1.0742 eval_mse = 1.0870 test_mse = 1.0550\n",
      "epoch = 14800 loss = 1.0762 eval_mse = 1.0882 test_mse = 1.0581\n"
     ]
    }
   ],
   "source": [
    "def compute_val(X, y):\n",
    "    inputs, labels = torch.tensor(X[:,:2], dtype=torch.float), torch.tensor(y, dtype=torch.float).reshape(-1,1)\n",
    "    model.eval()\n",
    "    outputs = model(inputs)\n",
    "    pred = outputs.detach().numpy()\n",
    "    mse = mean_squared_error(y, pred)\n",
    "    r2 = r2_score(y, pred)\n",
    "    return mse, r2\n",
    "\n",
    "inputs, labels = torch.tensor(X_train[:,:2], dtype=torch.float), torch.tensor(y_train, dtype=torch.float).reshape(-1,1)\n",
    "\n",
    "model.train()\n",
    "best_eval = np.inf\n",
    "bad_counter = 0\n",
    "for epoch in range(40000):\n",
    "    \n",
    "    optimizer.zero_grad()\n",
    "    outputs = model(inputs)\n",
    "    loss = loss_fun(outputs, labels)\n",
    "    loss.backward()\n",
    "    optimizer.step()\n",
    "    \n",
    "    eval_mse, eval_r2 = compute_val(X_eval, y_eval)\n",
    "    test_mse, test_r2 = compute_val(X_test, y_test)\n",
    "    \n",
    "    if eval_mse < best_eval:\n",
    "        best_eval = eval_mse\n",
    "        best_test_mse = test_mse\n",
    "        best_test_r2 = test_r2\n",
    "        bad_counter = 0\n",
    "        \n",
    "    else:\n",
    "        bad_counter += 1\n",
    "        \n",
    "    if bad_counter == 50:\n",
    "        break\n",
    "    \n",
    "    if epoch % 200 == 0:\n",
    "        print(\"epoch = {}\".format(epoch), \"loss = {:.4f}\".format(loss.item()),\n",
    "             \"eval_mse = {:.4f}\".format(eval_mse), \"test_mse = {:.4f}\".format(test_mse))"
   ]
  },
  {
   "cell_type": "code",
   "execution_count": 11,
   "metadata": {},
   "outputs": [
    {
     "name": "stdout",
     "output_type": "stream",
     "text": [
      "Three-layer neural network with two input variables:\n",
      "R2 = 0.7491 MSE = 1.0547\n"
     ]
    }
   ],
   "source": [
    "print(\"Three-layer neural network with two input variables:\")\n",
    "print(\"R2 = {:.4f}\".format(best_test_r2), \"MSE = {:.4f}\".format(best_test_mse))"
   ]
  },
  {
   "cell_type": "markdown",
   "metadata": {},
   "source": [
    "# $M_{Neural3}$:\n",
    "### Three-layer neural network with three input variables, $x_1$ , $x_2$ and $x_1x_2$ "
   ]
  },
  {
   "cell_type": "code",
   "execution_count": 12,
   "metadata": {},
   "outputs": [],
   "source": [
    "import random\n",
    "random.seed(42)\n",
    "np.random.seed(42)\n",
    "torch.manual_seed(42)\n",
    "\n",
    "# input : x_1, x_2, x_1*x_2\n",
    "model = NN3(3, 8, 4, 1)\n",
    "optimizer = optim.Adam(model.parameters(),lr=0.005)\n",
    "loss_fun = nn.MSELoss()"
   ]
  },
  {
   "cell_type": "code",
   "execution_count": 13,
   "metadata": {
    "scrolled": true
   },
   "outputs": [
    {
     "name": "stdout",
     "output_type": "stream",
     "text": [
      "epoch = 0 loss = 25.2653 eval_mse = 24.9644 test_mse = 24.6902\n",
      "epoch = 200 loss = 4.2708 eval_mse = 4.3049 test_mse = 4.1926\n",
      "epoch = 400 loss = 4.2195 eval_mse = 4.2550 test_mse = 4.1471\n",
      "epoch = 600 loss = 3.7991 eval_mse = 3.8336 test_mse = 3.7187\n",
      "epoch = 800 loss = 3.2889 eval_mse = 3.2869 test_mse = 3.2077\n",
      "epoch = 1000 loss = 2.9468 eval_mse = 2.9235 test_mse = 2.8789\n",
      "epoch = 1200 loss = 1.9227 eval_mse = 1.9357 test_mse = 1.9010\n",
      "epoch = 1400 loss = 1.6103 eval_mse = 1.6220 test_mse = 1.5895\n",
      "epoch = 1600 loss = 1.4961 eval_mse = 1.5069 test_mse = 1.4668\n",
      "epoch = 1800 loss = 1.4366 eval_mse = 1.4460 test_mse = 1.4011\n",
      "epoch = 2000 loss = 1.3982 eval_mse = 1.4064 test_mse = 1.3599\n",
      "epoch = 2200 loss = 1.3669 eval_mse = 1.3750 test_mse = 1.3271\n",
      "epoch = 2400 loss = 1.3390 eval_mse = 1.3476 test_mse = 1.2993\n",
      "epoch = 2600 loss = 1.3097 eval_mse = 1.3189 test_mse = 1.2730\n",
      "epoch = 2800 loss = 1.2834 eval_mse = 1.2931 test_mse = 1.2511\n",
      "epoch = 3000 loss = 1.2630 eval_mse = 1.2728 test_mse = 1.2346\n",
      "epoch = 3200 loss = 1.2456 eval_mse = 1.2555 test_mse = 1.2205\n",
      "epoch = 3400 loss = 1.2307 eval_mse = 1.2408 test_mse = 1.2085\n",
      "epoch = 3600 loss = 1.2169 eval_mse = 1.2275 test_mse = 1.1969\n",
      "epoch = 3800 loss = 1.2026 eval_mse = 1.2142 test_mse = 1.1835\n",
      "epoch = 4000 loss = 1.1895 eval_mse = 1.2017 test_mse = 1.1712\n",
      "epoch = 4200 loss = 1.1795 eval_mse = 1.1911 test_mse = 1.1627\n",
      "epoch = 4400 loss = 1.1718 eval_mse = 1.1827 test_mse = 1.1570\n",
      "epoch = 4600 loss = 1.1658 eval_mse = 1.1764 test_mse = 1.1528\n",
      "epoch = 4800 loss = 1.1604 eval_mse = 1.1713 test_mse = 1.1488\n",
      "epoch = 5000 loss = 1.1544 eval_mse = 1.1661 test_mse = 1.1434\n",
      "epoch = 5200 loss = 1.1462 eval_mse = 1.1594 test_mse = 1.1353\n",
      "epoch = 5400 loss = 1.1359 eval_mse = 1.1504 test_mse = 1.1253\n",
      "epoch = 5600 loss = 1.1251 eval_mse = 1.1409 test_mse = 1.1148\n",
      "epoch = 5800 loss = 1.1148 eval_mse = 1.1315 test_mse = 1.1047\n",
      "epoch = 6000 loss = 1.1062 eval_mse = 1.1235 test_mse = 1.0965\n",
      "epoch = 6200 loss = 1.1001 eval_mse = 1.1178 test_mse = 1.0911\n",
      "epoch = 6400 loss = 1.0953 eval_mse = 1.1132 test_mse = 1.0866\n",
      "epoch = 6600 loss = 1.0908 eval_mse = 1.1082 test_mse = 1.0827\n",
      "epoch = 6800 loss = 1.0863 eval_mse = 1.1036 test_mse = 1.0787\n",
      "epoch = 7000 loss = 1.0819 eval_mse = 1.0990 test_mse = 1.0749\n",
      "epoch = 7200 loss = 1.0779 eval_mse = 1.0947 test_mse = 1.0714\n",
      "epoch = 7400 loss = 1.0743 eval_mse = 1.0910 test_mse = 1.0684\n",
      "epoch = 7600 loss = 1.0709 eval_mse = 1.0877 test_mse = 1.0656\n",
      "epoch = 7800 loss = 1.0679 eval_mse = 1.0849 test_mse = 1.0628\n",
      "epoch = 8000 loss = 1.0651 eval_mse = 1.0823 test_mse = 1.0602\n",
      "epoch = 8200 loss = 1.0626 eval_mse = 1.0800 test_mse = 1.0580\n",
      "epoch = 8400 loss = 1.0604 eval_mse = 1.0780 test_mse = 1.0559\n",
      "epoch = 8600 loss = 1.0584 eval_mse = 1.0762 test_mse = 1.0540\n",
      "epoch = 8800 loss = 1.0569 eval_mse = 1.0742 test_mse = 1.0528\n",
      "epoch = 9000 loss = 1.0550 eval_mse = 1.0733 test_mse = 1.0510\n",
      "epoch = 9200 loss = 1.0536 eval_mse = 1.0711 test_mse = 1.0504\n",
      "epoch = 9400 loss = 1.0521 eval_mse = 1.0700 test_mse = 1.0488\n",
      "epoch = 9600 loss = 1.0508 eval_mse = 1.0686 test_mse = 1.0477\n",
      "epoch = 9800 loss = 1.0495 eval_mse = 1.0673 test_mse = 1.0467\n",
      "epoch = 10000 loss = 1.0483 eval_mse = 1.0661 test_mse = 1.0457\n",
      "epoch = 10200 loss = 1.0471 eval_mse = 1.0650 test_mse = 1.0445\n",
      "epoch = 10400 loss = 1.0459 eval_mse = 1.0637 test_mse = 1.0437\n",
      "epoch = 10600 loss = 1.0449 eval_mse = 1.0626 test_mse = 1.0427\n",
      "epoch = 10800 loss = 1.0438 eval_mse = 1.0615 test_mse = 1.0418\n",
      "epoch = 11000 loss = 1.0428 eval_mse = 1.0604 test_mse = 1.0408\n",
      "epoch = 11200 loss = 1.0425 eval_mse = 1.0594 test_mse = 1.0410\n",
      "epoch = 11400 loss = 1.0410 eval_mse = 1.0584 test_mse = 1.0391\n",
      "epoch = 11600 loss = 1.0401 eval_mse = 1.0575 test_mse = 1.0384\n",
      "epoch = 11800 loss = 1.0394 eval_mse = 1.0564 test_mse = 1.0379\n",
      "epoch = 12000 loss = 1.0386 eval_mse = 1.0557 test_mse = 1.0370\n",
      "epoch = 12200 loss = 1.0378 eval_mse = 1.0548 test_mse = 1.0361\n",
      "epoch = 12400 loss = 1.0371 eval_mse = 1.0541 test_mse = 1.0357\n"
     ]
    }
   ],
   "source": [
    "inputs, labels = torch.tensor(X_train, dtype=torch.float), torch.tensor(y_train, dtype=torch.float).reshape(-1,1)\n",
    "\n",
    "def compute_val(X, y):\n",
    "    inputs, labels = torch.tensor(X, dtype=torch.float), torch.tensor(y, dtype=torch.float).reshape(-1,1)\n",
    "    model.eval()\n",
    "    outputs = model(inputs)\n",
    "    pred = outputs.detach().numpy()\n",
    "    mse = mean_squared_error(y, pred)\n",
    "    r2 = r2_score(y, pred)\n",
    "    return mse, r2\n",
    "    \n",
    "model.train()\n",
    "best_eval = np.inf\n",
    "bad_counter = 0\n",
    "for epoch in range(40000):\n",
    "    \n",
    "    optimizer.zero_grad()\n",
    "    outputs = model(inputs)\n",
    "    loss = loss_fun(outputs, labels)\n",
    "    loss.backward()\n",
    "    optimizer.step()\n",
    "    \n",
    "    eval_mse, eval_r2 = compute_val(X_eval, y_eval)\n",
    "    test_mse, test_r2 = compute_val(X_test, y_test)\n",
    "    \n",
    "    if eval_mse < best_eval:\n",
    "        best_eval = eval_mse\n",
    "        best_test_mse = test_mse\n",
    "        best_test_r2 = test_r2\n",
    "        bad_counter = 0\n",
    "        \n",
    "    else:\n",
    "        bad_counter += 1\n",
    "        \n",
    "    if bad_counter == 50:\n",
    "        break\n",
    "    \n",
    "    if epoch % 200 == 0:\n",
    "        print(\"epoch = {}\".format(epoch), \"loss = {:.4f}\".format(loss.item()),\n",
    "             \"eval_mse = {:.4f}\".format(eval_mse), \"test_mse = {:.4f}\".format(test_mse))"
   ]
  },
  {
   "cell_type": "code",
   "execution_count": 14,
   "metadata": {},
   "outputs": [
    {
     "name": "stdout",
     "output_type": "stream",
     "text": [
      "Three-layer neural network with Three input variables:\n",
      "R2 = 0.7537 MSE = 1.0355\n"
     ]
    }
   ],
   "source": [
    "print(\"Three-layer neural network with Three input variables:\")\n",
    "print(\"R2 = {:.4f}\".format(best_test_r2), \"MSE = {:.4f}\".format(best_test_mse))"
   ]
  },
  {
   "cell_type": "markdown",
   "metadata": {},
   "source": [
    "# $M_{Tensor}$:\n",
    "### Tensor-based model with two input variables, $x_1$ and $x_2$"
   ]
  },
  {
   "cell_type": "code",
   "execution_count": 15,
   "metadata": {},
   "outputs": [],
   "source": [
    "import torch\n",
    "import torch.nn as nn\n",
    "import torch.nn.functional as F\n",
    "import math\n",
    "import torch.optim as optim\n",
    "\n",
    "class TensorFusionLayer(nn.Module):\n",
    "    \"\"\"Tensor-based Fusion Method\"\"\"\n",
    "    def __init__(self, in_features, out_features):\n",
    "        super(TensorFusionLayer, self).__init__()\n",
    "        self.in_features = in_features\n",
    "        self.out_features = out_features\n",
    "\n",
    "        self.fc = nn.Linear(in_features, 1)        \n",
    "        self.Tensor = nn.Sequential(\n",
    "            nn.Linear(in_features, 4),\n",
    "            nn.Tanh(),\n",
    "            nn.Linear(4, 4),\n",
    "            nn.Tanh(),\n",
    "            nn.Linear(4, 4),\n",
    "        )\n",
    "\n",
    "    def forward(self, inputdata):\n",
    "        inputdata_l = inputdata.unsqueeze(2)\n",
    "        inputdata_r = inputdata.unsqueeze(1)\n",
    "        x_inter = torch.matmul(inputdata_l, inputdata_r)\n",
    "        R = self.Tensor(inputdata).reshape(inputdata.size(0), inputdata.size(1), inputdata.size(1))\n",
    "        x_inter_R = torch.mul(x_inter, R).sum(2)\n",
    "        x_return = self.fc(inputdata) + torch.sum(x_inter_R, dim=1).reshape(-1,1)\n",
    "        return x_return, R"
   ]
  },
  {
   "cell_type": "code",
   "execution_count": 16,
   "metadata": {
    "scrolled": true
   },
   "outputs": [],
   "source": [
    "inputs, labels = torch.tensor(X_train[:,:2], dtype=torch.float), torch.tensor(y_train, dtype=torch.float).reshape(-1,1)\n",
    "\n",
    "def compute_val(X, y):\n",
    "    inputs, labels = torch.tensor(X[:,:2], dtype=torch.float), torch.tensor(y, dtype=torch.float).reshape(-1,1)\n",
    "    model.eval()\n",
    "    outputs, _= model(inputs)\n",
    "    pred = outputs.detach().numpy()\n",
    "    mse = mean_squared_error(y, pred)\n",
    "    r2 = r2_score(y, pred)\n",
    "    return mse, r2\n",
    "\n",
    "\n",
    "def tensor_train(eta):\n",
    "    model.train()\n",
    "    best_eval = np.inf\n",
    "    bad_counter = 0\n",
    "    loss_list = []\n",
    "    R2_list = []\n",
    "    for epoch in range(40000):\n",
    "\n",
    "        optimizer.zero_grad()\n",
    "        outputs, R = model(inputs)\n",
    "        reg_loss = loss_fun(outputs, labels)\n",
    "        regularization_R = torch.sum(torch.abs(R))\n",
    "        loss = reg_loss + eta * (regularization_R / len(inputs))\n",
    "        loss.backward()\n",
    "        optimizer.step()\n",
    "        eval_mse, eval_r2 = compute_val(X_eval, y_eval)\n",
    "        test_mse, test_r2 = compute_val(X_test, y_test)\n",
    "    \n",
    "        if eval_mse < best_eval:\n",
    "            best_eval = eval_mse\n",
    "            best_test_mse = test_mse\n",
    "            best_test_r2 = test_r2\n",
    "            bad_counter = 0\n",
    "\n",
    "            R_state_1 = model(torch.tensor([[0.1, 0.1]]))[1][0].detach().cpu().numpy()\n",
    "            R_state_2 = model(torch.tensor([[0.1, 0.9]]))[1][0].detach().cpu().numpy()\n",
    "            R_state_3 = model(torch.tensor([[0.9, 0.1]]))[1][0].detach().cpu().numpy()\n",
    "            R_state_4 = model(torch.tensor([[0.9, 0.9]]))[1][0].detach().cpu().numpy()\n",
    "\n",
    "        else:\n",
    "            bad_counter += 1\n",
    "\n",
    "        if bad_counter == 50:\n",
    "            break\n",
    "            \n",
    "        loss_list.append(test_mse)\n",
    "        R2_list.append(test_r2)\n",
    "        if epoch % 200 == 0:\n",
    "            print(\"epoch = {}\".format(epoch), \"loss = {:.4f}\".format(loss.item()),\n",
    "                 \"eval_mse = {:.4f}\".format(eval_mse), \"test_mse = {:.4f}\".format(test_mse))\n",
    "    \n",
    "    return best_test_mse, best_test_r2, loss_list, R2_list, R_state_1, R_state_2, R_state_3, R_state_4"
   ]
  },
  {
   "cell_type": "markdown",
   "metadata": {},
   "source": [
    "# $M_{Tensor}$ ($\\eta$ = 0)"
   ]
  },
  {
   "cell_type": "code",
   "execution_count": 17,
   "metadata": {
    "scrolled": true
   },
   "outputs": [
    {
     "name": "stdout",
     "output_type": "stream",
     "text": [
      "epoch = 0 loss = 26.8359 eval_mse = 26.2612 test_mse = 26.0271\n",
      "epoch = 200 loss = 6.3307 eval_mse = 6.2548 test_mse = 6.4003\n",
      "epoch = 400 loss = 4.0570 eval_mse = 3.9741 test_mse = 4.0622\n",
      "epoch = 600 loss = 1.9623 eval_mse = 1.9306 test_mse = 1.9671\n",
      "epoch = 800 loss = 1.5041 eval_mse = 1.4930 test_mse = 1.4963\n",
      "epoch = 1000 loss = 1.4032 eval_mse = 1.3973 test_mse = 1.3851\n",
      "epoch = 1200 loss = 1.3706 eval_mse = 1.3657 test_mse = 1.3495\n",
      "epoch = 1400 loss = 1.3523 eval_mse = 1.3473 test_mse = 1.3315\n",
      "epoch = 1600 loss = 1.3387 eval_mse = 1.3335 test_mse = 1.3193\n",
      "epoch = 1800 loss = 1.3278 eval_mse = 1.3225 test_mse = 1.3099\n",
      "epoch = 2000 loss = 1.3185 eval_mse = 1.3132 test_mse = 1.3021\n",
      "epoch = 2200 loss = 1.3104 eval_mse = 1.3051 test_mse = 1.2953\n",
      "epoch = 2400 loss = 1.3030 eval_mse = 1.2978 test_mse = 1.2890\n",
      "epoch = 2600 loss = 1.2961 eval_mse = 1.2910 test_mse = 1.2829\n",
      "epoch = 2800 loss = 1.2889 eval_mse = 1.2842 test_mse = 1.2761\n",
      "epoch = 3000 loss = 1.2788 eval_mse = 1.2752 test_mse = 1.2649\n",
      "epoch = 3200 loss = 1.2587 eval_mse = 1.2569 test_mse = 1.2433\n",
      "epoch = 3400 loss = 1.2259 eval_mse = 1.2256 test_mse = 1.2100\n",
      "epoch = 3600 loss = 1.1964 eval_mse = 1.1965 test_mse = 1.1803\n",
      "epoch = 3800 loss = 1.1769 eval_mse = 1.1768 test_mse = 1.1634\n",
      "epoch = 4000 loss = 1.1655 eval_mse = 1.1654 test_mse = 1.1515\n",
      "epoch = 4200 loss = 1.1581 eval_mse = 1.1580 test_mse = 1.1432\n",
      "epoch = 4400 loss = 1.1520 eval_mse = 1.1523 test_mse = 1.1366\n",
      "epoch = 4600 loss = 1.1460 eval_mse = 1.1473 test_mse = 1.1305\n",
      "epoch = 4800 loss = 1.1398 eval_mse = 1.1422 test_mse = 1.1245\n",
      "epoch = 5000 loss = 1.1338 eval_mse = 1.1371 test_mse = 1.1186\n",
      "epoch = 5200 loss = 1.1082 eval_mse = 1.1119 test_mse = 1.0908\n",
      "epoch = 5400 loss = 1.0800 eval_mse = 1.0893 test_mse = 1.0652\n",
      "epoch = 5600 loss = 1.0681 eval_mse = 1.0783 test_mse = 1.0543\n",
      "epoch = 5800 loss = 1.0578 eval_mse = 1.0684 test_mse = 1.0460\n",
      "epoch = 6000 loss = 1.0490 eval_mse = 1.0613 test_mse = 1.0401\n",
      "epoch = 6200 loss = 1.0449 eval_mse = 1.0573 test_mse = 1.0374\n",
      "epoch = 6400 loss = 1.0417 eval_mse = 1.0539 test_mse = 1.0351\n",
      "epoch = 6600 loss = 1.0387 eval_mse = 1.0507 test_mse = 1.0328\n",
      "epoch = 6800 loss = 1.0358 eval_mse = 1.0484 test_mse = 1.0310\n",
      "epoch = 7000 loss = 1.0333 eval_mse = 1.0465 test_mse = 1.0295\n",
      "epoch = 7200 loss = 1.0312 eval_mse = 1.0449 test_mse = 1.0282\n",
      "epoch = 7400 loss = 1.0294 eval_mse = 1.0435 test_mse = 1.0272\n",
      "epoch = 7600 loss = 1.0278 eval_mse = 1.0423 test_mse = 1.0263\n",
      "epoch = 7800 loss = 1.0263 eval_mse = 1.0411 test_mse = 1.0255\n",
      "epoch = 8000 loss = 1.0248 eval_mse = 1.0400 test_mse = 1.0248\n",
      "epoch = 8200 loss = 1.0235 eval_mse = 1.0390 test_mse = 1.0240\n",
      "epoch = 8400 loss = 1.0223 eval_mse = 1.0381 test_mse = 1.0233\n",
      "epoch = 8600 loss = 1.0213 eval_mse = 1.0373 test_mse = 1.0226\n",
      "epoch = 8800 loss = 1.0203 eval_mse = 1.0366 test_mse = 1.0220\n",
      "epoch = 9000 loss = 1.0194 eval_mse = 1.0358 test_mse = 1.0215\n",
      "epoch = 9200 loss = 1.0186 eval_mse = 1.0351 test_mse = 1.0210\n",
      "epoch = 9400 loss = 1.0179 eval_mse = 1.0348 test_mse = 1.0209\n",
      "epoch = 9600 loss = 1.0173 eval_mse = 1.0340 test_mse = 1.0203\n",
      "epoch = 9800 loss = 1.0164 eval_mse = 1.0333 test_mse = 1.0198\n",
      "epoch = 10000 loss = 1.0158 eval_mse = 1.0327 test_mse = 1.0194\n",
      "epoch = 10200 loss = 1.0155 eval_mse = 1.0324 test_mse = 1.0192\n",
      "epoch = 10400 loss = 1.0147 eval_mse = 1.0317 test_mse = 1.0188\n",
      "epoch = 10600 loss = 1.0141 eval_mse = 1.0311 test_mse = 1.0184\n",
      "epoch = 10800 loss = 1.0136 eval_mse = 1.0306 test_mse = 1.0180\n",
      "epoch = 11000 loss = 1.0131 eval_mse = 1.0301 test_mse = 1.0177\n",
      "epoch = 11200 loss = 1.0127 eval_mse = 1.0298 test_mse = 1.0174\n",
      "epoch = 11400 loss = 1.0122 eval_mse = 1.0292 test_mse = 1.0170\n",
      "epoch = 11600 loss = 1.0118 eval_mse = 1.0288 test_mse = 1.0167\n",
      "epoch = 11800 loss = 1.0114 eval_mse = 1.0284 test_mse = 1.0162\n",
      "epoch = 12000 loss = 1.0110 eval_mse = 1.0279 test_mse = 1.0157\n",
      "epoch = 12200 loss = 1.0105 eval_mse = 1.0275 test_mse = 1.0151\n",
      "epoch = 12400 loss = 1.0101 eval_mse = 1.0270 test_mse = 1.0144\n",
      "epoch = 12600 loss = 1.0098 eval_mse = 1.0269 test_mse = 1.0137\n",
      "epoch = 12800 loss = 1.0094 eval_mse = 1.0261 test_mse = 1.0132\n",
      "epoch = 13000 loss = 1.0090 eval_mse = 1.0257 test_mse = 1.0127\n",
      "epoch = 13200 loss = 1.0087 eval_mse = 1.0254 test_mse = 1.0122\n",
      "epoch = 13400 loss = 1.0084 eval_mse = 1.0249 test_mse = 1.0120\n",
      "epoch = 13600 loss = 1.0081 eval_mse = 1.0246 test_mse = 1.0116\n",
      "epoch = 13800 loss = 1.0078 eval_mse = 1.0243 test_mse = 1.0113\n",
      "epoch = 14000 loss = 1.0076 eval_mse = 1.0240 test_mse = 1.0110\n",
      "epoch = 14200 loss = 1.0077 eval_mse = 1.0245 test_mse = 1.0108\n"
     ]
    }
   ],
   "source": [
    "random.seed(42)\n",
    "np.random.seed(42)\n",
    "torch.manual_seed(42)\n",
    "\n",
    "model = TensorFusionLayer(2, 1)\n",
    "optimizer = optim.Adam(model.parameters(),lr=0.01)\n",
    "loss_fun = nn.MSELoss()\n",
    "\n",
    "eta_0_mse, eta_0_r2, eta_0_loss_list, eta_0_R2_list, eta_0_R_state_1, eta_0_R_state_2,\\\n",
    "eta_0_R_state_3, eta_0_R_state_4 = tensor_train(eta=0)"
   ]
  },
  {
   "cell_type": "code",
   "execution_count": 18,
   "metadata": {},
   "outputs": [
    {
     "name": "stdout",
     "output_type": "stream",
     "text": [
      "Tensor-based model (eta = 0) with two input variables:\n",
      "R2 = 0.7595 MSE = 1.0109\n"
     ]
    }
   ],
   "source": [
    "print(\"Tensor-based model (eta = 0) with two input variables:\")\n",
    "print(\"R2 = {:.4f}\".format(eta_0_r2), \"MSE = {:.4f}\".format(eta_0_mse))"
   ]
  },
  {
   "cell_type": "markdown",
   "metadata": {},
   "source": [
    "# $M_{Tensor}$ ($\\eta$ = 1e-4)"
   ]
  },
  {
   "cell_type": "code",
   "execution_count": 19,
   "metadata": {
    "scrolled": true
   },
   "outputs": [
    {
     "name": "stdout",
     "output_type": "stream",
     "text": [
      "epoch = 0 loss = 26.8361 eval_mse = 26.2612 test_mse = 26.0271\n",
      "epoch = 200 loss = 6.3313 eval_mse = 6.2548 test_mse = 6.4002\n",
      "epoch = 400 loss = 4.0565 eval_mse = 3.9726 test_mse = 4.0607\n",
      "epoch = 600 loss = 1.9618 eval_mse = 1.9292 test_mse = 1.9657\n",
      "epoch = 800 loss = 1.5050 eval_mse = 1.4928 test_mse = 1.4961\n",
      "epoch = 1000 loss = 1.4044 eval_mse = 1.3973 test_mse = 1.3851\n",
      "epoch = 1200 loss = 1.3719 eval_mse = 1.3657 test_mse = 1.3495\n",
      "epoch = 1400 loss = 1.3536 eval_mse = 1.3473 test_mse = 1.3315\n",
      "epoch = 1600 loss = 1.3400 eval_mse = 1.3336 test_mse = 1.3194\n",
      "epoch = 1800 loss = 1.3291 eval_mse = 1.3225 test_mse = 1.3099\n",
      "epoch = 2000 loss = 1.3198 eval_mse = 1.3132 test_mse = 1.3021\n",
      "epoch = 2200 loss = 1.3116 eval_mse = 1.3051 test_mse = 1.2953\n",
      "epoch = 2400 loss = 1.3042 eval_mse = 1.2978 test_mse = 1.2890\n",
      "epoch = 2600 loss = 1.2972 eval_mse = 1.2909 test_mse = 1.2828\n",
      "epoch = 2800 loss = 1.2897 eval_mse = 1.2839 test_mse = 1.2756\n",
      "epoch = 3000 loss = 1.2788 eval_mse = 1.2742 test_mse = 1.2634\n",
      "epoch = 3200 loss = 1.2575 eval_mse = 1.2544 test_mse = 1.2408\n",
      "epoch = 3400 loss = 1.2253 eval_mse = 1.2235 test_mse = 1.2080\n",
      "epoch = 3600 loss = 1.1975 eval_mse = 1.1961 test_mse = 1.1797\n",
      "epoch = 3800 loss = 1.1788 eval_mse = 1.1768 test_mse = 1.1634\n",
      "epoch = 4000 loss = 1.1676 eval_mse = 1.1655 test_mse = 1.1516\n",
      "epoch = 4200 loss = 1.1603 eval_mse = 1.1582 test_mse = 1.1435\n",
      "epoch = 4400 loss = 1.1543 eval_mse = 1.1525 test_mse = 1.1369\n",
      "epoch = 4600 loss = 1.1485 eval_mse = 1.1476 test_mse = 1.1310\n",
      "epoch = 4800 loss = 1.1424 eval_mse = 1.1425 test_mse = 1.1250\n",
      "epoch = 5000 loss = 1.1362 eval_mse = 1.1373 test_mse = 1.1190\n",
      "epoch = 5200 loss = 1.1052 eval_mse = 1.1079 test_mse = 1.0863\n",
      "epoch = 5400 loss = 1.0809 eval_mse = 1.0883 test_mse = 1.0641\n",
      "epoch = 5600 loss = 1.0688 eval_mse = 1.0772 test_mse = 1.0533\n",
      "epoch = 5800 loss = 1.0554 eval_mse = 1.0653 test_mse = 1.0430\n",
      "epoch = 6000 loss = 1.0500 eval_mse = 1.0607 test_mse = 1.0399\n",
      "epoch = 6200 loss = 1.0461 eval_mse = 1.0567 test_mse = 1.0373\n",
      "epoch = 6400 loss = 1.0428 eval_mse = 1.0531 test_mse = 1.0350\n",
      "epoch = 6600 loss = 1.0399 eval_mse = 1.0501 test_mse = 1.0327\n",
      "epoch = 6800 loss = 1.0372 eval_mse = 1.0479 test_mse = 1.0308\n",
      "epoch = 7000 loss = 1.0348 eval_mse = 1.0462 test_mse = 1.0293\n",
      "epoch = 7200 loss = 1.0327 eval_mse = 1.0447 test_mse = 1.0281\n",
      "epoch = 7400 loss = 1.0308 eval_mse = 1.0433 test_mse = 1.0272\n",
      "epoch = 7600 loss = 1.0292 eval_mse = 1.0421 test_mse = 1.0263\n",
      "epoch = 7800 loss = 1.0276 eval_mse = 1.0409 test_mse = 1.0255\n",
      "epoch = 8000 loss = 1.0262 eval_mse = 1.0399 test_mse = 1.0246\n",
      "epoch = 8200 loss = 1.0249 eval_mse = 1.0390 test_mse = 1.0239\n",
      "epoch = 8400 loss = 1.0238 eval_mse = 1.0381 test_mse = 1.0232\n",
      "epoch = 8600 loss = 1.0227 eval_mse = 1.0373 test_mse = 1.0226\n",
      "epoch = 8800 loss = 1.0218 eval_mse = 1.0365 test_mse = 1.0220\n",
      "epoch = 9000 loss = 1.0209 eval_mse = 1.0358 test_mse = 1.0215\n",
      "epoch = 9200 loss = 1.0202 eval_mse = 1.0351 test_mse = 1.0209\n",
      "epoch = 9400 loss = 1.0195 eval_mse = 1.0346 test_mse = 1.0208\n",
      "epoch = 9600 loss = 1.0187 eval_mse = 1.0338 test_mse = 1.0201\n",
      "epoch = 9800 loss = 1.0180 eval_mse = 1.0331 test_mse = 1.0196\n",
      "epoch = 10000 loss = 1.0173 eval_mse = 1.0325 test_mse = 1.0192\n",
      "epoch = 10200 loss = 1.0167 eval_mse = 1.0319 test_mse = 1.0189\n",
      "epoch = 10400 loss = 1.0161 eval_mse = 1.0314 test_mse = 1.0185\n",
      "epoch = 10600 loss = 1.0156 eval_mse = 1.0308 test_mse = 1.0181\n",
      "epoch = 10800 loss = 1.0151 eval_mse = 1.0303 test_mse = 1.0178\n",
      "epoch = 11000 loss = 1.0146 eval_mse = 1.0299 test_mse = 1.0174\n",
      "epoch = 11200 loss = 1.0141 eval_mse = 1.0293 test_mse = 1.0170\n",
      "epoch = 11400 loss = 1.0136 eval_mse = 1.0288 test_mse = 1.0166\n",
      "epoch = 11600 loss = 1.0131 eval_mse = 1.0283 test_mse = 1.0161\n",
      "epoch = 11800 loss = 1.0127 eval_mse = 1.0278 test_mse = 1.0155\n",
      "epoch = 12000 loss = 1.0125 eval_mse = 1.0276 test_mse = 1.0151\n",
      "epoch = 12200 loss = 1.0118 eval_mse = 1.0268 test_mse = 1.0140\n",
      "epoch = 12400 loss = 1.0113 eval_mse = 1.0263 test_mse = 1.0133\n",
      "epoch = 12600 loss = 1.0109 eval_mse = 1.0258 test_mse = 1.0127\n",
      "epoch = 12800 loss = 1.0105 eval_mse = 1.0254 test_mse = 1.0122\n",
      "epoch = 13000 loss = 1.0102 eval_mse = 1.0250 test_mse = 1.0118\n",
      "epoch = 13200 loss = 1.0098 eval_mse = 1.0246 test_mse = 1.0115\n",
      "epoch = 13400 loss = 1.0095 eval_mse = 1.0243 test_mse = 1.0111\n",
      "epoch = 13600 loss = 1.0092 eval_mse = 1.0239 test_mse = 1.0109\n",
      "epoch = 13800 loss = 1.0089 eval_mse = 1.0236 test_mse = 1.0104\n",
      "epoch = 14000 loss = 1.0086 eval_mse = 1.0232 test_mse = 1.0101\n"
     ]
    }
   ],
   "source": [
    "random.seed(42)\n",
    "np.random.seed(42)\n",
    "torch.manual_seed(42)\n",
    "\n",
    "model = TensorFusionLayer(2, 1)\n",
    "optimizer = optim.Adam(model.parameters(),lr=0.01)\n",
    "loss_fun = nn.MSELoss()\n",
    "\n",
    "eta_1_mse, eta_1_r2, eta_1_loss_list, eta_1_R2_list, eta_1_R_state_1, eta_1_R_state_2, \\\n",
    "eta_1_R_state_3, eta_1_R_state_4 = tensor_train(eta=0.0001)"
   ]
  },
  {
   "cell_type": "code",
   "execution_count": 20,
   "metadata": {},
   "outputs": [
    {
     "name": "stdout",
     "output_type": "stream",
     "text": [
      "Tensor-based model (eta = 1e-4) with two input variables:\n",
      "R2 = 0.7597 MSE = 1.0102\n"
     ]
    }
   ],
   "source": [
    "print(\"Tensor-based model (eta = 1e-4) with two input variables:\")\n",
    "print(\"R2 = {:.4f}\".format(eta_1_r2), \"MSE = {:.4f}\".format(eta_1_mse))"
   ]
  },
  {
   "cell_type": "markdown",
   "metadata": {},
   "source": [
    "# $M_{Tensor}$ ($\\eta$ = 3e-3)"
   ]
  },
  {
   "cell_type": "code",
   "execution_count": 21,
   "metadata": {
    "scrolled": true
   },
   "outputs": [
    {
     "name": "stdout",
     "output_type": "stream",
     "text": [
      "epoch = 0 loss = 26.8400 eval_mse = 26.2612 test_mse = 26.0271\n",
      "epoch = 200 loss = 6.3484 eval_mse = 6.2522 test_mse = 6.3975\n",
      "epoch = 400 loss = 4.0342 eval_mse = 3.9254 test_mse = 4.0119\n",
      "epoch = 600 loss = 1.9503 eval_mse = 1.8918 test_mse = 1.9273\n",
      "epoch = 800 loss = 1.5323 eval_mse = 1.4880 test_mse = 1.4905\n",
      "epoch = 1000 loss = 1.4386 eval_mse = 1.3977 test_mse = 1.3851\n",
      "epoch = 1200 loss = 1.4068 eval_mse = 1.3667 test_mse = 1.3503\n",
      "epoch = 1400 loss = 1.3876 eval_mse = 1.3480 test_mse = 1.3319\n",
      "epoch = 1600 loss = 1.3715 eval_mse = 1.3324 test_mse = 1.3176\n",
      "epoch = 1800 loss = 1.3555 eval_mse = 1.3167 test_mse = 1.3029\n",
      "epoch = 2000 loss = 1.3407 eval_mse = 1.3017 test_mse = 1.2878\n",
      "epoch = 2200 loss = 1.3270 eval_mse = 1.2870 test_mse = 1.2725\n",
      "epoch = 2400 loss = 1.3153 eval_mse = 1.2738 test_mse = 1.2597\n",
      "epoch = 2600 loss = 1.3053 eval_mse = 1.2626 test_mse = 1.2498\n",
      "epoch = 2800 loss = 1.2953 eval_mse = 1.2524 test_mse = 1.2406\n",
      "epoch = 3000 loss = 1.2778 eval_mse = 1.2371 test_mse = 1.2241\n",
      "epoch = 3200 loss = 1.2189 eval_mse = 1.1844 test_mse = 1.1659\n",
      "epoch = 3400 loss = 1.1610 eval_mse = 1.1307 test_mse = 1.1062\n",
      "epoch = 3600 loss = 1.1389 eval_mse = 1.1103 test_mse = 1.0837\n",
      "epoch = 3800 loss = 1.1259 eval_mse = 1.0987 test_mse = 1.0730\n",
      "epoch = 4000 loss = 1.1154 eval_mse = 1.0899 test_mse = 1.0650\n",
      "epoch = 4200 loss = 1.1070 eval_mse = 1.0830 test_mse = 1.0587\n",
      "epoch = 4400 loss = 1.1001 eval_mse = 1.0772 test_mse = 1.0538\n",
      "epoch = 4600 loss = 1.0939 eval_mse = 1.0721 test_mse = 1.0497\n",
      "epoch = 4800 loss = 1.0884 eval_mse = 1.0676 test_mse = 1.0460\n",
      "epoch = 5000 loss = 1.0833 eval_mse = 1.0637 test_mse = 1.0428\n",
      "epoch = 5200 loss = 1.0788 eval_mse = 1.0602 test_mse = 1.0401\n",
      "epoch = 5400 loss = 1.0747 eval_mse = 1.0571 test_mse = 1.0374\n",
      "epoch = 5600 loss = 1.0712 eval_mse = 1.0541 test_mse = 1.0348\n",
      "epoch = 5800 loss = 1.0681 eval_mse = 1.0512 test_mse = 1.0323\n",
      "epoch = 6000 loss = 1.0648 eval_mse = 1.0481 test_mse = 1.0292\n",
      "epoch = 6200 loss = 1.0611 eval_mse = 1.0457 test_mse = 1.0269\n",
      "epoch = 6400 loss = 1.0587 eval_mse = 1.0438 test_mse = 1.0259\n",
      "epoch = 6600 loss = 1.0570 eval_mse = 1.0422 test_mse = 1.0245\n",
      "epoch = 6800 loss = 1.0556 eval_mse = 1.0407 test_mse = 1.0234\n",
      "epoch = 7000 loss = 1.0542 eval_mse = 1.0396 test_mse = 1.0223\n",
      "epoch = 7200 loss = 1.0531 eval_mse = 1.0385 test_mse = 1.0215\n",
      "epoch = 7400 loss = 1.0520 eval_mse = 1.0376 test_mse = 1.0208\n",
      "epoch = 7600 loss = 1.0511 eval_mse = 1.0366 test_mse = 1.0201\n",
      "epoch = 7800 loss = 1.0502 eval_mse = 1.0357 test_mse = 1.0195\n",
      "epoch = 8000 loss = 1.0494 eval_mse = 1.0349 test_mse = 1.0188\n",
      "epoch = 8200 loss = 1.0486 eval_mse = 1.0341 test_mse = 1.0182\n",
      "epoch = 8400 loss = 1.0479 eval_mse = 1.0333 test_mse = 1.0177\n",
      "epoch = 8600 loss = 1.0472 eval_mse = 1.0328 test_mse = 1.0172\n",
      "epoch = 8800 loss = 1.0466 eval_mse = 1.0321 test_mse = 1.0166\n",
      "epoch = 9000 loss = 1.0460 eval_mse = 1.0316 test_mse = 1.0162\n"
     ]
    }
   ],
   "source": [
    "random.seed(42)\n",
    "np.random.seed(42)\n",
    "torch.manual_seed(42)\n",
    "\n",
    "model = TensorFusionLayer(2, 1)\n",
    "optimizer = optim.Adam(model.parameters(),lr=0.01)\n",
    "loss_fun = nn.MSELoss()\n",
    "\n",
    "eta_3_mse, eta_3_r2, eta_3_loss_list, eta_3_R2_list, eta_3_R_state_1, eta_3_R_state_2, \\\n",
    "eta_3_R_state_3, eta_3_R_state_4 = tensor_train(eta=0.003)"
   ]
  },
  {
   "cell_type": "code",
   "execution_count": 22,
   "metadata": {},
   "outputs": [
    {
     "name": "stdout",
     "output_type": "stream",
     "text": [
      "Tensor-based model (eta = 3e-3) with two input variables:\n",
      "R2 = 0.7583 MSE = 1.0159\n"
     ]
    }
   ],
   "source": [
    "print(\"Tensor-based model (eta = 3e-3) with two input variables:\")\n",
    "print(\"R2 = {:.4f}\".format(eta_3_r2), \"MSE = {:.4f}\".format(eta_3_mse))"
   ]
  },
  {
   "cell_type": "markdown",
   "metadata": {},
   "source": [
    "# $M_{Tensor}$ ($\\eta$ = 1e-3)"
   ]
  },
  {
   "cell_type": "code",
   "execution_count": 23,
   "metadata": {
    "scrolled": true
   },
   "outputs": [
    {
     "name": "stdout",
     "output_type": "stream",
     "text": [
      "epoch = 0 loss = 26.8373 eval_mse = 26.2612 test_mse = 26.0271\n",
      "epoch = 200 loss = 6.3367 eval_mse = 6.2540 test_mse = 6.3994\n",
      "epoch = 400 loss = 4.0511 eval_mse = 3.9591 test_mse = 4.0468\n",
      "epoch = 600 loss = 1.9576 eval_mse = 1.9170 test_mse = 1.9533\n",
      "epoch = 800 loss = 1.5135 eval_mse = 1.4913 test_mse = 1.4943\n",
      "epoch = 1000 loss = 1.4153 eval_mse = 1.3975 test_mse = 1.3852\n",
      "epoch = 1200 loss = 1.3831 eval_mse = 1.3661 test_mse = 1.3499\n",
      "epoch = 1400 loss = 1.3648 eval_mse = 1.3478 test_mse = 1.3319\n",
      "epoch = 1600 loss = 1.3512 eval_mse = 1.3341 test_mse = 1.3198\n",
      "epoch = 1800 loss = 1.3402 eval_mse = 1.3231 test_mse = 1.3104\n",
      "epoch = 2000 loss = 1.3307 eval_mse = 1.3137 test_mse = 1.3024\n",
      "epoch = 2200 loss = 1.3222 eval_mse = 1.3053 test_mse = 1.2951\n",
      "epoch = 2400 loss = 1.3140 eval_mse = 1.2974 test_mse = 1.2880\n",
      "epoch = 2600 loss = 1.3059 eval_mse = 1.2895 test_mse = 1.2803\n",
      "epoch = 2800 loss = 1.2948 eval_mse = 1.2793 test_mse = 1.2685\n",
      "epoch = 3000 loss = 1.2774 eval_mse = 1.2625 test_mse = 1.2495\n",
      "epoch = 3200 loss = 1.2523 eval_mse = 1.2365 test_mse = 1.2231\n",
      "epoch = 3400 loss = 1.2286 eval_mse = 1.2114 test_mse = 1.1982\n",
      "epoch = 3600 loss = 1.2140 eval_mse = 1.1960 test_mse = 1.1826\n",
      "epoch = 3800 loss = 1.2053 eval_mse = 1.1868 test_mse = 1.1733\n",
      "epoch = 4000 loss = 1.1993 eval_mse = 1.1806 test_mse = 1.1667\n",
      "epoch = 4200 loss = 1.1933 eval_mse = 1.1751 test_mse = 1.1592\n",
      "epoch = 4400 loss = 1.1835 eval_mse = 1.1642 test_mse = 1.1486\n",
      "epoch = 4600 loss = 1.1766 eval_mse = 1.1560 test_mse = 1.1419\n",
      "epoch = 4800 loss = 1.1726 eval_mse = 1.1514 test_mse = 1.1373\n",
      "epoch = 5000 loss = 1.1689 eval_mse = 1.1473 test_mse = 1.1332\n",
      "epoch = 5200 loss = 1.1651 eval_mse = 1.1437 test_mse = 1.1293\n",
      "epoch = 5400 loss = 1.1228 eval_mse = 1.1080 test_mse = 1.0878\n",
      "epoch = 5600 loss = 1.0852 eval_mse = 1.0784 test_mse = 1.0574\n",
      "epoch = 5800 loss = 1.0743 eval_mse = 1.0698 test_mse = 1.0486\n",
      "epoch = 6000 loss = 1.0690 eval_mse = 1.0656 test_mse = 1.0446\n",
      "epoch = 6200 loss = 1.0650 eval_mse = 1.0622 test_mse = 1.0418\n",
      "epoch = 6400 loss = 1.0611 eval_mse = 1.0585 test_mse = 1.0392\n",
      "epoch = 6600 loss = 1.0575 eval_mse = 1.0548 test_mse = 1.0365\n",
      "epoch = 6800 loss = 1.0541 eval_mse = 1.0513 test_mse = 1.0339\n",
      "epoch = 7000 loss = 1.0508 eval_mse = 1.0480 test_mse = 1.0312\n",
      "epoch = 7200 loss = 1.0477 eval_mse = 1.0456 test_mse = 1.0291\n",
      "epoch = 7400 loss = 1.0451 eval_mse = 1.0440 test_mse = 1.0278\n",
      "epoch = 7600 loss = 1.0430 eval_mse = 1.0426 test_mse = 1.0269\n",
      "epoch = 7800 loss = 1.0411 eval_mse = 1.0414 test_mse = 1.0260\n",
      "epoch = 8000 loss = 1.0395 eval_mse = 1.0405 test_mse = 1.0252\n",
      "epoch = 8200 loss = 1.0379 eval_mse = 1.0392 test_mse = 1.0243\n",
      "epoch = 8400 loss = 1.0366 eval_mse = 1.0383 test_mse = 1.0234\n",
      "epoch = 8600 loss = 1.0351 eval_mse = 1.0371 test_mse = 1.0226\n",
      "epoch = 8800 loss = 1.0339 eval_mse = 1.0361 test_mse = 1.0218\n",
      "epoch = 9000 loss = 1.0327 eval_mse = 1.0352 test_mse = 1.0210\n",
      "epoch = 9200 loss = 1.0317 eval_mse = 1.0345 test_mse = 1.0204\n",
      "epoch = 9400 loss = 1.0305 eval_mse = 1.0333 test_mse = 1.0196\n",
      "epoch = 9600 loss = 1.0293 eval_mse = 1.0323 test_mse = 1.0189\n",
      "epoch = 9800 loss = 1.0281 eval_mse = 1.0311 test_mse = 1.0178\n",
      "epoch = 10000 loss = 1.0269 eval_mse = 1.0301 test_mse = 1.0163\n",
      "epoch = 10200 loss = 1.0258 eval_mse = 1.0291 test_mse = 1.0148\n",
      "epoch = 10400 loss = 1.0249 eval_mse = 1.0284 test_mse = 1.0135\n",
      "epoch = 10600 loss = 1.0240 eval_mse = 1.0277 test_mse = 1.0125\n",
      "epoch = 10800 loss = 1.0233 eval_mse = 1.0271 test_mse = 1.0116\n",
      "epoch = 11000 loss = 1.0227 eval_mse = 1.0265 test_mse = 1.0109\n",
      "epoch = 11200 loss = 1.0222 eval_mse = 1.0262 test_mse = 1.0103\n",
      "epoch = 11400 loss = 1.0216 eval_mse = 1.0256 test_mse = 1.0097\n",
      "epoch = 11600 loss = 1.0211 eval_mse = 1.0251 test_mse = 1.0092\n",
      "epoch = 11800 loss = 1.0207 eval_mse = 1.0248 test_mse = 1.0088\n",
      "epoch = 12000 loss = 1.0203 eval_mse = 1.0244 test_mse = 1.0084\n",
      "epoch = 12200 loss = 1.0199 eval_mse = 1.0241 test_mse = 1.0080\n",
      "epoch = 12400 loss = 1.0196 eval_mse = 1.0237 test_mse = 1.0078\n",
      "epoch = 12600 loss = 1.0193 eval_mse = 1.0235 test_mse = 1.0074\n",
      "epoch = 12800 loss = 1.0190 eval_mse = 1.0232 test_mse = 1.0073\n",
      "epoch = 13000 loss = 1.0186 eval_mse = 1.0230 test_mse = 1.0069\n",
      "epoch = 13200 loss = 1.0184 eval_mse = 1.0227 test_mse = 1.0066\n",
      "epoch = 13400 loss = 1.0180 eval_mse = 1.0226 test_mse = 1.0065\n"
     ]
    }
   ],
   "source": [
    "random.seed(42)\n",
    "np.random.seed(42)\n",
    "torch.manual_seed(42)\n",
    "\n",
    "model = TensorFusionLayer(2, 1)\n",
    "optimizer = optim.Adam(model.parameters(),lr=0.01)\n",
    "loss_fun = nn.MSELoss()\n",
    "\n",
    "eta_2_mse, eta_2_r2, eta_2_loss_list, eta_2_R2_list, eta_2_R_state_1, eta_2_R_state_2, \\\n",
    "eta_2_R_state_3, eta_2_R_state_4 = tensor_train(eta=0.001)"
   ]
  },
  {
   "cell_type": "code",
   "execution_count": 24,
   "metadata": {},
   "outputs": [
    {
     "name": "stdout",
     "output_type": "stream",
     "text": [
      "Tensor-based model (eta = 1e-3) with two input variables:\n",
      "R2 = 0.7605 MSE = 1.0067\n"
     ]
    }
   ],
   "source": [
    "print(\"Tensor-based model (eta = 1e-3) with two input variables:\")\n",
    "print(\"R2 = {:.4f}\".format(eta_2_r2), \"MSE = {:.4f}\".format(eta_2_mse))"
   ]
  },
  {
   "cell_type": "code",
   "execution_count": 26,
   "metadata": {},
   "outputs": [],
   "source": [
    "import copy\n",
    "# Just adjust the heat map color.\n",
    "def times3(array):\n",
    "    \n",
    "    array_copy = copy.deepcopy(array)\n",
    "    array_copy[0][0] = array_copy[0][0] * 3\n",
    "    array_copy[1][1] = array_copy[1][1] * 3\n",
    "    \n",
    "    return array_copy"
   ]
  },
  {
   "cell_type": "markdown",
   "metadata": {},
   "source": [
    "# $\\gamma_{state} = 20$"
   ]
  },
  {
   "cell_type": "code",
   "execution_count": 35,
   "metadata": {},
   "outputs": [
    {
     "data": {
      "image/png": "[encoded data removed]",
      "text/plain": [
       "<Figure size 1440x288 with 8 Axes>"
      ]
     },
     "metadata": {
      "needs_background": "light"
     },
     "output_type": "display_data"
    }
   ],
   "source": [
    "import matplotlib.pyplot as plt\n",
    "import seaborn as sns\n",
    "\n",
    "plt.rc(\"font\", family=\"Times New Roman\", size=12)\n",
    "\n",
    "eta = [0, \"1e-4\", \"1e-3\", \"3e-3\"]\n",
    "plt.figure(figsize=(20, 4))\n",
    "for i in range(1, 5):\n",
    "    ax = plt.subplot(1,4,i)\n",
    "    heatmap = sns.heatmap(times3(eval(\"eta_{}_R_state_1\".format(i-1))), \\\n",
    "                          cmap=\"vlag\", annot = eval(\"eta_{}_R_state_1\".format(i-1)), \\\n",
    "                          fmt=\".3f\", cbar=True, vmax=14, vmin=-14, \\\n",
    "                          xticklabels = ['$x_1=0.1$','$x_2=0.1$'], yticklabels = ['$x_1=0.1$','$x_2=0.1$'])\n",
    "    plt.title(\"$\\eta$ = \" + str(eta[i-1]))\n",
    "\n",
    "plt.savefig(\"state_20\", dpi=500, bbox_inches='tight')\n",
    "plt.show()"
   ]
  },
  {
   "cell_type": "markdown",
   "metadata": {},
   "source": [
    "# $\\gamma_{state} = 10$"
   ]
  },
  {
   "cell_type": "code",
   "execution_count": 36,
   "metadata": {},
   "outputs": [
    {
     "data": {
      "image/png": "[encoded data removed]",
      "text/plain": [
       "<Figure size 1440x288 with 8 Axes>"
      ]
     },
     "metadata": {
      "needs_background": "light"
     },
     "output_type": "display_data"
    }
   ],
   "source": [
    "plt.rc(\"font\", family=\"Times New Roman\", size=12)\n",
    "plt.figure(figsize=(20, 4))\n",
    "for i in range(1, 5):\n",
    "    ax = plt.subplot(1,4,i)\n",
    "    heatmap = sns.heatmap(times3(eval(\"eta_{}_R_state_3\".format(i-1))), \\\n",
    "                          cmap=\"vlag\", annot = eval(\"eta_{}_R_state_3\".format(i-1)), \\\n",
    "                          fmt=\".3f\", cbar=True, vmax=7, vmin=-7, \\\n",
    "                          xticklabels = ['$x_1=0.9$','$x_2=0.1$'], yticklabels = ['$x_1=0.9$','$x_2=0.1$'])\n",
    "    plt.title(\"$\\eta$ = \" + str(eta[i-1]))\n",
    "\n",
    "plt.savefig(\"state_10\", dpi=500, bbox_inches='tight')\n",
    "plt.show()"
   ]
  },
  {
   "cell_type": "markdown",
   "metadata": {},
   "source": [
    "# $\\gamma_{state} = -10$"
   ]
  },
  {
   "cell_type": "code",
   "execution_count": 37,
   "metadata": {},
   "outputs": [
    {
     "data": {
      "image/png": "[encoded data removed]",
      "text/plain": [
       "<Figure size 1440x288 with 8 Axes>"
      ]
     },
     "metadata": {
      "needs_background": "light"
     },
     "output_type": "display_data"
    }
   ],
   "source": [
    "plt.rc(\"font\", family=\"Times New Roman\", size=12)\n",
    "\n",
    "plt.figure(figsize=(20, 4))\n",
    "for i in range(1, 5):\n",
    "    ax = plt.subplot(1,4,i)\n",
    "    heatmap = sns.heatmap(times3(eval(\"eta_{}_R_state_2\".format(i-1))), \\\n",
    "                          cmap=\"vlag\", annot = eval(\"eta_{}_R_state_2\".format(i-1)), \\\n",
    "                          fmt=\".3f\", cbar=True, vmax=6, vmin=-6, \\\n",
    "                          xticklabels = ['$x_1=0.1$','$x_2=0.9$'], yticklabels = ['$x_1=0.1$','$x_2=0.9$'])\n",
    "    plt.title(\"$\\eta$ = \" + str(eta[i-1]))\n",
    "\n",
    "plt.savefig(\"state_-10\", dpi=500, bbox_inches='tight')\n",
    "plt.show()"
   ]
  },
  {
   "cell_type": "markdown",
   "metadata": {},
   "source": [
    "# $\\gamma_{state} = -5$"
   ]
  },
  {
   "cell_type": "code",
   "execution_count": 38,
   "metadata": {},
   "outputs": [
    {
     "data": {
      "image/png": "[encoded data removed]",
      "text/plain": [
       "<Figure size 1440x288 with 8 Axes>"
      ]
     },
     "metadata": {
      "needs_background": "light"
     },
     "output_type": "display_data"
    }
   ],
   "source": [
    "plt.rc(\"font\", family=\"Times New Roman\", size=12)\n",
    "plt.figure(figsize=(20, 4))\n",
    "for i in range(1, 5):\n",
    "    ax = plt.subplot(1,4,i)\n",
    "    heatmap = sns.heatmap((eval(\"eta_{}_R_state_4\".format(i-1))), \\\n",
    "                          cmap=\"vlag\", annot = eval(\"eta_{}_R_state_4\".format(i-1)), \\\n",
    "                          fmt=\".3f\", cbar=True, vmax=6, vmin=-6, \\\n",
    "                          xticklabels = ['$x_1=0.9$','$x_2=0.9$'], yticklabels = ['$x_1=0.9$','$x_2=0.9$'])\n",
    "    plt.title(\"$\\eta$ = \" + str(eta[i-1]))\n",
    "\n",
    "plt.savefig(\"state_-5\", dpi=500, bbox_inches='tight')\n",
    "plt.show()"
   ]
  },
  {
   "cell_type": "code",
   "execution_count": 41,
   "metadata": {},
   "outputs": [
    {
     "data": {
      "image/png": "[encoded data removed]",
      "text/plain": [
       "<Figure size 864x288 with 2 Axes>"
      ]
     },
     "metadata": {
      "needs_background": "light"
     },
     "output_type": "display_data"
    }
   ],
   "source": [
    "plt.rc(\"font\", family=\"Times New Roman\", size=12)\n",
    "plt.figure(figsize=(12, 4))\n",
    "\n",
    "# MSE\n",
    "ax1 = plt.subplot(1,2,1)\n",
    "plt.plot(range(len(eta_0_loss_list)), eta_0_loss_list, label = '$\\eta$=0', color='mediumorchid')\n",
    "plt.plot(np.array([len(eta_0_loss_list), len(eta_0_loss_list)]), np.array([1, 1.05]), ls = \"-.\", linewidth=0.5, color='tomato')\n",
    "plt.plot(range(len(eta_1_loss_list)), eta_1_loss_list, label = '$\\eta$=1e-4', color='mediumseagreen')\n",
    "plt.plot(np.array([len(eta_1_loss_list), len(eta_1_loss_list)]), np.array([1, 1.05]), ls = \"-.\", linewidth=0.5, color='tomato')\n",
    "plt.plot(range(len(eta_2_loss_list)), eta_2_loss_list, label = '$\\eta$=1e-3', color='sandybrown')\n",
    "plt.plot(np.array([len(eta_2_loss_list), len(eta_2_loss_list)]), np.array([1, 1.05]), ls = \"-.\", linewidth=0.5, color='tomato')\n",
    "plt.plot(range(len(eta_3_loss_list)), eta_3_loss_list, label = '$\\eta$=3e-3', color='cornflowerblue')\n",
    "plt.plot(np.array([len(eta_3_loss_list), len(eta_3_loss_list)]), np.array([1, 1.05]), ls = \"-.\", linewidth=0.5, color='tomato', label=\"Early stopping\")\n",
    "plt.legend(loc='upper left',prop = {'size':9})\n",
    "plt.xlabel(\"Epoch\", fontsize=14)\n",
    "plt.ylabel(\"MSE\", fontsize=11)\n",
    "plt.ylim(1, 1.05)\n",
    "plt.grid(ls=\"dashdot\", linewidth=0.5, color='lightgray', zorder=0)\n",
    "\n",
    "# R_2\n",
    "ax2 = plt.subplot(1,2,2)\n",
    "plt.ylim(0.74, 0.765)\n",
    "plt.plot(range(len(eta_0_loss_list)), eta_0_R2_list, label = '$\\eta$=0', color='mediumorchid')\n",
    "plt.plot(np.array([len(eta_0_loss_list), len(eta_0_loss_list)]), np.array([0.7, 0.8]), ls = \"-.\", linewidth=0.5, color='tomato')\n",
    "plt.plot(range(len(eta_1_loss_list)), eta_1_R2_list, label = '$\\eta$=1e-4', color='mediumseagreen')\n",
    "plt.plot(np.array([len(eta_1_loss_list), len(eta_1_loss_list)]), np.array([0.7, 0.8]), ls = \"-.\", linewidth=0.5, color='tomato')\n",
    "plt.plot(range(len(eta_2_loss_list)), eta_2_R2_list, label = '$\\eta$=1e-3', color='sandybrown')\n",
    "plt.plot(np.array([len(eta_2_loss_list), len(eta_2_loss_list)]), np.array([0.7, 0.8]), ls = \"-.\", linewidth=0.5, color='tomato')\n",
    "plt.plot(range(len(eta_3_loss_list)), eta_3_R2_list, label = '$\\eta$=3e-3', color='cornflowerblue')\n",
    "plt.plot(np.array([len(eta_3_loss_list), len(eta_3_loss_list)]), np.array([0.7, 0.8]), ls = \"-.\", linewidth=0.5, color='tomato', label=\"Early stopping\")\n",
    "plt.grid(ls=\"dashdot\", linewidth=0.5, color='lightgray', zorder=0)\n",
    "plt.ylabel(\"$R^2$\", fontsize=11)\n",
    "plt.legend(loc='upper left',prop = {'size':9})\n",
    "plt.xlabel(\"Epoch\", fontsize=14)\n",
    "plt.savefig(\"loss\", dpi=500, bbox_inches='tight')\n",
    "plt.show()"
   ]
  },
  {
   "cell_type": "code",
   "execution_count": 32,
   "metadata": {},
   "outputs": [],
   "source": [
    "# The coefficient of x_1x_2 are obtained by summing the secondary diagonal of R\n",
    "def get_c(array):\n",
    "    return array[0][1] + array[1][0]"
   ]
  },
  {
   "cell_type": "code",
   "execution_count": 33,
   "metadata": {},
   "outputs": [],
   "source": [
    "result = []\n",
    "for i in np.arange(0.9, -0.1, -0.1):\n",
    "    for j in np.arange(0, 1, 0.1):\n",
    "        R = model(torch.tensor([[i, j]],dtype=torch.float32))[1][0].detach().numpy()\n",
    "        result.append(get_c(R))"
   ]
  },
  {
   "cell_type": "code",
   "execution_count": 42,
   "metadata": {},
   "outputs": [
    {
     "data": {
      "image/png": "[encoded data removed]",
      "text/plain": [
       "<Figure size 720x432 with 2 Axes>"
      ]
     },
     "metadata": {
      "needs_background": "light"
     },
     "output_type": "display_data"
    }
   ],
   "source": [
    "plt.rc('font', family = 'Times New Roman', size = '12')\n",
    "plt.figure(figsize=(10, 6))\n",
    "h = sns.heatmap(np.array(result).reshape(10,10), cmap=\"Blues_r\",xticklabels = np.arange(0,10,1) / 10, yticklabels = np.arange(9,-1,-1) / 10, cbar=True)\n",
    "\n",
    "plt.xlabel(\"$x_2$\", size=15)\n",
    "plt.ylabel(\"$x_1$\", size=15)\n",
    "plt.savefig('TENSOR_1', dpi=500, bbox_inches='tight')\n",
    "plt.show()"
   ]
  },
  {
   "cell_type": "code",
   "execution_count": null,
   "metadata": {},
   "outputs": [],
   "source": []
  }
 ],
 "metadata": {
  "kernelspec": {
   "display_name": "Python 3 (ipykernel)",
   "language": "python",
   "name": "python3"
  },
  "language_info": {
   "codemirror_mode": {
    "name": "ipython",
    "version": 3
   },
   "file_extension": ".py",
   "mimetype": "text/x-python",
   "name": "python",
   "nbconvert_exporter": "python",
   "pygments_lexer": "ipython3",
   "version": "3.9.12"
  },
  "toc": {
   "base_numbering": 1,
   "nav_menu": {},
   "number_sections": true,
   "sideBar": true,
   "skip_h1_title": false,
   "title_cell": "Table of Contents",
   "title_sidebar": "Contents",
   "toc_cell": false,
   "toc_position": {},
   "toc_section_display": true,
   "toc_window_display": false
  }
 },
 "nbformat": 4,
 "nbformat_minor": 4
}
